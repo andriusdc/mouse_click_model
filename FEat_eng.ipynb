{
 "metadata": {
  "language_info": {
   "codemirror_mode": {
    "name": "ipython",
    "version": 3
   },
   "file_extension": ".py",
   "mimetype": "text/x-python",
   "name": "python",
   "nbconvert_exporter": "python",
   "pygments_lexer": "ipython3",
   "version": "3.8.5"
  },
  "orig_nbformat": 2,
  "kernelspec": {
   "name": "python385jvsc74a57bd073fdd517862a664a96a081812e62a16a90ccf7f8abe555ad9995abe92cfb7ff3",
   "display_name": "Python 3.8.5 64-bit ('data analysis': conda)"
  }
 },
 "nbformat": 4,
 "nbformat_minor": 2,
 "cells": [
  {
   "cell_type": "code",
   "execution_count": 1,
   "metadata": {},
   "outputs": [],
   "source": [
    "import pandas as pd\n",
    "import numpy as np\n",
    "import seaborn as sns\n",
    "import sklearn\n",
    "import os\n",
    "import glob\n",
    "from Action_Segmentation import *\n",
    "from Feature_Engineer import *\n",
    "import matplotlib.pyplot as plt\n",
    "from datetime import timedelta\n",
    "from datetime import time\n",
    "from sklearn.pipeline import Pipeline"
   ]
  },
  {
   "cell_type": "code",
   "execution_count": null,
   "metadata": {},
   "outputs": [],
   "source": [
    "train=pd.read_csv(r\"C:\\\\Users\\\\Andrius\\\\Downloads\\\\Mouse-Dynamics-Challenge-master\\\\Mouse-Dynamics-Challenge-master\\\\train_save_pre_seg.csv\")\n",
    "train_seg=pd.DataFrame()\n",
    "df_action=pd.DataFrame()\n",
    "thresh=10\n",
    "min_events=4\n",
    "for session in train.session.unique():\n",
    "    tmp2,tmp3=feat_eng(segmentation_prep(segmentation(train[train.session==session],thresh,min_events)))\n",
    "    train_seg=train_seg.append(tmp3)\n",
    "    df_action=df_action.append(tmp2)\n",
    "#train_save=train_seg"
   ]
  },
  {
   "cell_type": "code",
   "execution_count": 2,
   "metadata": {},
   "outputs": [
    {
     "output_type": "stream",
     "name": "stderr",
     "text": [
      "C:\\Users\\Andrius\\anaconda\\envs\\data analysis\\lib\\site-packages\\pandas\\core\\indexing.py:1637: SettingWithCopyWarning: \n",
      "A value is trying to be set on a copy of a slice from a DataFrame\n",
      "\n",
      "See the caveats in the documentation: https://pandas.pydata.org/pandas-docs/stable/user_guide/indexing.html#returning-a-view-versus-a-copy\n",
      "  self._setitem_single_block(indexer, value, name)\n",
      "C:\\Users\\Andrius\\anaconda\\envs\\data analysis\\lib\\site-packages\\pandas\\core\\indexing.py:1637: SettingWithCopyWarning: \n",
      "A value is trying to be set on a copy of a slice from a DataFrame\n",
      "\n",
      "See the caveats in the documentation: https://pandas.pydata.org/pandas-docs/stable/user_guide/indexing.html#returning-a-view-versus-a-copy\n",
      "  self._setitem_single_block(indexer, value, name)\n",
      "C:\\Users\\Andrius\\anaconda\\envs\\data analysis\\lib\\site-packages\\pandas\\core\\indexing.py:1637: SettingWithCopyWarning: \n",
      "A value is trying to be set on a copy of a slice from a DataFrame\n",
      "\n",
      "See the caveats in the documentation: https://pandas.pydata.org/pandas-docs/stable/user_guide/indexing.html#returning-a-view-versus-a-copy\n",
      "  self._setitem_single_block(indexer, value, name)\n",
      "C:\\Users\\Andrius\\anaconda\\envs\\data analysis\\lib\\site-packages\\pandas\\core\\indexing.py:1637: SettingWithCopyWarning: \n",
      "A value is trying to be set on a copy of a slice from a DataFrame\n",
      "\n",
      "See the caveats in the documentation: https://pandas.pydata.org/pandas-docs/stable/user_guide/indexing.html#returning-a-view-versus-a-copy\n",
      "  self._setitem_single_block(indexer, value, name)\n",
      "C:\\Users\\Andrius\\anaconda\\envs\\data analysis\\lib\\site-packages\\pandas\\core\\indexing.py:1637: SettingWithCopyWarning: \n",
      "A value is trying to be set on a copy of a slice from a DataFrame\n",
      "\n",
      "See the caveats in the documentation: https://pandas.pydata.org/pandas-docs/stable/user_guide/indexing.html#returning-a-view-versus-a-copy\n",
      "  self._setitem_single_block(indexer, value, name)\n",
      "C:\\Users\\Andrius\\anaconda\\envs\\data analysis\\lib\\site-packages\\pandas\\core\\indexing.py:1637: SettingWithCopyWarning: \n",
      "A value is trying to be set on a copy of a slice from a DataFrame\n",
      "\n",
      "See the caveats in the documentation: https://pandas.pydata.org/pandas-docs/stable/user_guide/indexing.html#returning-a-view-versus-a-copy\n",
      "  self._setitem_single_block(indexer, value, name)\n",
      "C:\\Users\\Andrius\\anaconda\\envs\\data analysis\\lib\\site-packages\\pandas\\core\\indexing.py:1637: SettingWithCopyWarning: \n",
      "A value is trying to be set on a copy of a slice from a DataFrame\n",
      "\n",
      "See the caveats in the documentation: https://pandas.pydata.org/pandas-docs/stable/user_guide/indexing.html#returning-a-view-versus-a-copy\n",
      "  self._setitem_single_block(indexer, value, name)\n",
      "C:\\Users\\Andrius\\anaconda\\envs\\data analysis\\lib\\site-packages\\pandas\\core\\indexing.py:1637: SettingWithCopyWarning: \n",
      "A value is trying to be set on a copy of a slice from a DataFrame\n",
      "\n",
      "See the caveats in the documentation: https://pandas.pydata.org/pandas-docs/stable/user_guide/indexing.html#returning-a-view-versus-a-copy\n",
      "  self._setitem_single_block(indexer, value, name)\n",
      "C:\\Users\\Andrius\\anaconda\\envs\\data analysis\\lib\\site-packages\\pandas\\core\\indexing.py:1637: SettingWithCopyWarning: \n",
      "A value is trying to be set on a copy of a slice from a DataFrame\n",
      "\n",
      "See the caveats in the documentation: https://pandas.pydata.org/pandas-docs/stable/user_guide/indexing.html#returning-a-view-versus-a-copy\n",
      "  self._setitem_single_block(indexer, value, name)\n",
      "C:\\Users\\Andrius\\anaconda\\envs\\data analysis\\lib\\site-packages\\pandas\\core\\indexing.py:1637: SettingWithCopyWarning: \n",
      "A value is trying to be set on a copy of a slice from a DataFrame\n",
      "\n",
      "See the caveats in the documentation: https://pandas.pydata.org/pandas-docs/stable/user_guide/indexing.html#returning-a-view-versus-a-copy\n",
      "  self._setitem_single_block(indexer, value, name)\n",
      "C:\\Users\\Andrius\\anaconda\\envs\\data analysis\\lib\\site-packages\\pandas\\core\\indexing.py:1637: SettingWithCopyWarning: \n",
      "A value is trying to be set on a copy of a slice from a DataFrame\n",
      "\n",
      "See the caveats in the documentation: https://pandas.pydata.org/pandas-docs/stable/user_guide/indexing.html#returning-a-view-versus-a-copy\n",
      "  self._setitem_single_block(indexer, value, name)\n",
      "C:\\Users\\Andrius\\anaconda\\envs\\data analysis\\lib\\site-packages\\pandas\\core\\indexing.py:1637: SettingWithCopyWarning: \n",
      "A value is trying to be set on a copy of a slice from a DataFrame\n",
      "\n",
      "See the caveats in the documentation: https://pandas.pydata.org/pandas-docs/stable/user_guide/indexing.html#returning-a-view-versus-a-copy\n",
      "  self._setitem_single_block(indexer, value, name)\n",
      "C:\\Users\\Andrius\\anaconda\\envs\\data analysis\\lib\\site-packages\\pandas\\core\\indexing.py:1637: SettingWithCopyWarning: \n",
      "A value is trying to be set on a copy of a slice from a DataFrame\n",
      "\n",
      "See the caveats in the documentation: https://pandas.pydata.org/pandas-docs/stable/user_guide/indexing.html#returning-a-view-versus-a-copy\n",
      "  self._setitem_single_block(indexer, value, name)\n",
      "C:\\Users\\Andrius\\anaconda\\envs\\data analysis\\lib\\site-packages\\pandas\\core\\indexing.py:1637: SettingWithCopyWarning: \n",
      "A value is trying to be set on a copy of a slice from a DataFrame\n",
      "\n",
      "See the caveats in the documentation: https://pandas.pydata.org/pandas-docs/stable/user_guide/indexing.html#returning-a-view-versus-a-copy\n",
      "  self._setitem_single_block(indexer, value, name)\n",
      "C:\\Users\\Andrius\\anaconda\\envs\\data analysis\\lib\\site-packages\\pandas\\core\\indexing.py:1637: SettingWithCopyWarning: \n",
      "A value is trying to be set on a copy of a slice from a DataFrame\n",
      "\n",
      "See the caveats in the documentation: https://pandas.pydata.org/pandas-docs/stable/user_guide/indexing.html#returning-a-view-versus-a-copy\n",
      "  self._setitem_single_block(indexer, value, name)\n",
      "C:\\Users\\Andrius\\anaconda\\envs\\data analysis\\lib\\site-packages\\pandas\\core\\indexing.py:1637: SettingWithCopyWarning: \n",
      "A value is trying to be set on a copy of a slice from a DataFrame\n",
      "\n",
      "See the caveats in the documentation: https://pandas.pydata.org/pandas-docs/stable/user_guide/indexing.html#returning-a-view-versus-a-copy\n",
      "  self._setitem_single_block(indexer, value, name)\n",
      "C:\\Users\\Andrius\\anaconda\\envs\\data analysis\\lib\\site-packages\\pandas\\core\\indexing.py:1637: SettingWithCopyWarning: \n",
      "A value is trying to be set on a copy of a slice from a DataFrame\n",
      "\n",
      "See the caveats in the documentation: https://pandas.pydata.org/pandas-docs/stable/user_guide/indexing.html#returning-a-view-versus-a-copy\n",
      "  self._setitem_single_block(indexer, value, name)\n",
      "C:\\Users\\Andrius\\anaconda\\envs\\data analysis\\lib\\site-packages\\pandas\\core\\indexing.py:1637: SettingWithCopyWarning: \n",
      "A value is trying to be set on a copy of a slice from a DataFrame\n",
      "\n",
      "See the caveats in the documentation: https://pandas.pydata.org/pandas-docs/stable/user_guide/indexing.html#returning-a-view-versus-a-copy\n",
      "  self._setitem_single_block(indexer, value, name)\n",
      "C:\\Users\\Andrius\\anaconda\\envs\\data analysis\\lib\\site-packages\\pandas\\core\\indexing.py:1637: SettingWithCopyWarning: \n",
      "A value is trying to be set on a copy of a slice from a DataFrame\n",
      "\n",
      "See the caveats in the documentation: https://pandas.pydata.org/pandas-docs/stable/user_guide/indexing.html#returning-a-view-versus-a-copy\n",
      "  self._setitem_single_block(indexer, value, name)\n"
     ]
    }
   ],
   "source": [
    "#Rodar essa\n",
    "train=pd.read_csv(r\"C:\\\\Users\\\\Andrius\\\\Downloads\\\\Mouse-Dynamics-Challenge-master\\\\Mouse-Dynamics-Challenge-master\\\\train_save_pre_seg.csv\")\n",
    "train_seg=pd.DataFrame()\n",
    "thresh=10\n",
    "min_events=4\n",
    "for session in train.session.unique():\n",
    "    train_seg=train_seg.append(segmentation(train[train.session==session],thresh,min_events))\n",
    "    train_seg=segmentation_prep(train_seg)\n",
    "train_save=train_seg\n",
    "train_save.to_csv(r\"C:\\\\Users\\\\Andrius\\\\Downloads\\\\Mouse-Dynamics-Challenge-master\\\\Mouse-Dynamics-Challenge-master\\\\train_save.csv\")\n"
   ]
  },
  {
   "cell_type": "code",
   "execution_count": null,
   "metadata": {},
   "outputs": [],
   "source": []
  },
  {
   "cell_type": "code",
   "execution_count": 3,
   "metadata": {},
   "outputs": [
    {
     "output_type": "execute_result",
     "data": {
      "text/plain": [
       "         Unnamed: 0  Unnamed: 0.1  record timestamp  client timestamp  \\\n",
       "0                 0             0             0.000             0.000   \n",
       "1                 1             1             0.232             0.094   \n",
       "2                 2             2             0.232             0.094   \n",
       "3                 3             3             0.232             0.234   \n",
       "4                 4             4             0.342             0.234   \n",
       "...             ...           ...               ...               ...   \n",
       "2253731     2253811         56512          3330.383          3330.278   \n",
       "2253732     2253812         56513          3330.383          3330.294   \n",
       "2253733     2253813         56514          3330.383          3330.294   \n",
       "2253734     2253814         56515          3330.383          3330.403   \n",
       "2253735     2253815         56516          3330.496          3330.528   \n",
       "\n",
       "           button     state     x    y             session    user Action  \\\n",
       "0        NoButton      Move  1043  410  session_2144641057  user12     MM   \n",
       "1        NoButton      Move  1024  410  session_2144641057  user12     MM   \n",
       "2        NoButton      Move  1019  410  session_2144641057  user12     MM   \n",
       "3        NoButton      Move   979  409  session_2144641057  user12     MM   \n",
       "4        NoButton      Move   974  411  session_2144641057  user12     MM   \n",
       "...           ...       ...   ...  ...                 ...     ...    ...   \n",
       "2253731  NoButton      Move   721  268  session_8764610836   user9     PC   \n",
       "2253732  NoButton      Move   722  268  session_8764610836   user9     PC   \n",
       "2253733  NoButton      Move   722  267  session_8764610836   user9     PC   \n",
       "2253734      Left   Pressed   722  267  session_8764610836   user9     PC   \n",
       "2253735      Left  Released   722  267  session_8764610836   user9     PC   \n",
       "\n",
       "         action_begin  delta_action Action_border  \n",
       "0                 NaN           NaN          None  \n",
       "1                 NaN           NaN          None  \n",
       "2                 NaN           NaN          None  \n",
       "3                 NaN           NaN          None  \n",
       "4                 NaN           NaN          None  \n",
       "...               ...           ...           ...  \n",
       "2253731           NaN           NaN          None  \n",
       "2253732           NaN           NaN          None  \n",
       "2253733           NaN           NaN          None  \n",
       "2253734           NaN           NaN          None  \n",
       "2253735           NaN           NaN          None  \n",
       "\n",
       "[2253736 rows x 14 columns]"
      ],
      "text/html": "<div>\n<style scoped>\n    .dataframe tbody tr th:only-of-type {\n        vertical-align: middle;\n    }\n\n    .dataframe tbody tr th {\n        vertical-align: top;\n    }\n\n    .dataframe thead th {\n        text-align: right;\n    }\n</style>\n<table border=\"1\" class=\"dataframe\">\n  <thead>\n    <tr style=\"text-align: right;\">\n      <th></th>\n      <th>Unnamed: 0</th>\n      <th>Unnamed: 0.1</th>\n      <th>record timestamp</th>\n      <th>client timestamp</th>\n      <th>button</th>\n      <th>state</th>\n      <th>x</th>\n      <th>y</th>\n      <th>session</th>\n      <th>user</th>\n      <th>Action</th>\n      <th>action_begin</th>\n      <th>delta_action</th>\n      <th>Action_border</th>\n    </tr>\n  </thead>\n  <tbody>\n    <tr>\n      <th>0</th>\n      <td>0</td>\n      <td>0</td>\n      <td>0.000</td>\n      <td>0.000</td>\n      <td>NoButton</td>\n      <td>Move</td>\n      <td>1043</td>\n      <td>410</td>\n      <td>session_2144641057</td>\n      <td>user12</td>\n      <td>MM</td>\n      <td>NaN</td>\n      <td>NaN</td>\n      <td>None</td>\n    </tr>\n    <tr>\n      <th>1</th>\n      <td>1</td>\n      <td>1</td>\n      <td>0.232</td>\n      <td>0.094</td>\n      <td>NoButton</td>\n      <td>Move</td>\n      <td>1024</td>\n      <td>410</td>\n      <td>session_2144641057</td>\n      <td>user12</td>\n      <td>MM</td>\n      <td>NaN</td>\n      <td>NaN</td>\n      <td>None</td>\n    </tr>\n    <tr>\n      <th>2</th>\n      <td>2</td>\n      <td>2</td>\n      <td>0.232</td>\n      <td>0.094</td>\n      <td>NoButton</td>\n      <td>Move</td>\n      <td>1019</td>\n      <td>410</td>\n      <td>session_2144641057</td>\n      <td>user12</td>\n      <td>MM</td>\n      <td>NaN</td>\n      <td>NaN</td>\n      <td>None</td>\n    </tr>\n    <tr>\n      <th>3</th>\n      <td>3</td>\n      <td>3</td>\n      <td>0.232</td>\n      <td>0.234</td>\n      <td>NoButton</td>\n      <td>Move</td>\n      <td>979</td>\n      <td>409</td>\n      <td>session_2144641057</td>\n      <td>user12</td>\n      <td>MM</td>\n      <td>NaN</td>\n      <td>NaN</td>\n      <td>None</td>\n    </tr>\n    <tr>\n      <th>4</th>\n      <td>4</td>\n      <td>4</td>\n      <td>0.342</td>\n      <td>0.234</td>\n      <td>NoButton</td>\n      <td>Move</td>\n      <td>974</td>\n      <td>411</td>\n      <td>session_2144641057</td>\n      <td>user12</td>\n      <td>MM</td>\n      <td>NaN</td>\n      <td>NaN</td>\n      <td>None</td>\n    </tr>\n    <tr>\n      <th>...</th>\n      <td>...</td>\n      <td>...</td>\n      <td>...</td>\n      <td>...</td>\n      <td>...</td>\n      <td>...</td>\n      <td>...</td>\n      <td>...</td>\n      <td>...</td>\n      <td>...</td>\n      <td>...</td>\n      <td>...</td>\n      <td>...</td>\n      <td>...</td>\n    </tr>\n    <tr>\n      <th>2253731</th>\n      <td>2253811</td>\n      <td>56512</td>\n      <td>3330.383</td>\n      <td>3330.278</td>\n      <td>NoButton</td>\n      <td>Move</td>\n      <td>721</td>\n      <td>268</td>\n      <td>session_8764610836</td>\n      <td>user9</td>\n      <td>PC</td>\n      <td>NaN</td>\n      <td>NaN</td>\n      <td>None</td>\n    </tr>\n    <tr>\n      <th>2253732</th>\n      <td>2253812</td>\n      <td>56513</td>\n      <td>3330.383</td>\n      <td>3330.294</td>\n      <td>NoButton</td>\n      <td>Move</td>\n      <td>722</td>\n      <td>268</td>\n      <td>session_8764610836</td>\n      <td>user9</td>\n      <td>PC</td>\n      <td>NaN</td>\n      <td>NaN</td>\n      <td>None</td>\n    </tr>\n    <tr>\n      <th>2253733</th>\n      <td>2253813</td>\n      <td>56514</td>\n      <td>3330.383</td>\n      <td>3330.294</td>\n      <td>NoButton</td>\n      <td>Move</td>\n      <td>722</td>\n      <td>267</td>\n      <td>session_8764610836</td>\n      <td>user9</td>\n      <td>PC</td>\n      <td>NaN</td>\n      <td>NaN</td>\n      <td>None</td>\n    </tr>\n    <tr>\n      <th>2253734</th>\n      <td>2253814</td>\n      <td>56515</td>\n      <td>3330.383</td>\n      <td>3330.403</td>\n      <td>Left</td>\n      <td>Pressed</td>\n      <td>722</td>\n      <td>267</td>\n      <td>session_8764610836</td>\n      <td>user9</td>\n      <td>PC</td>\n      <td>NaN</td>\n      <td>NaN</td>\n      <td>None</td>\n    </tr>\n    <tr>\n      <th>2253735</th>\n      <td>2253815</td>\n      <td>56516</td>\n      <td>3330.496</td>\n      <td>3330.528</td>\n      <td>Left</td>\n      <td>Released</td>\n      <td>722</td>\n      <td>267</td>\n      <td>session_8764610836</td>\n      <td>user9</td>\n      <td>PC</td>\n      <td>NaN</td>\n      <td>NaN</td>\n      <td>None</td>\n    </tr>\n  </tbody>\n</table>\n<p>2253736 rows × 14 columns</p>\n</div>"
     },
     "metadata": {},
     "execution_count": 3
    }
   ],
   "source": [
    "train_seg"
   ]
  },
  {
   "cell_type": "code",
   "execution_count": 4,
   "metadata": {},
   "outputs": [
    {
     "output_type": "stream",
     "name": "stdout",
     "text": [
      "<class 'pandas.core.frame.DataFrame'>\nInt64Index: 2253736 entries, 0 to 2253735\nData columns (total 14 columns):\n #   Column            Dtype  \n---  ------            -----  \n 0   Unnamed: 0        int64  \n 1   Unnamed: 0.1      int64  \n 2   record timestamp  float64\n 3   client timestamp  float64\n 4   button            object \n 5   state             object \n 6   x                 int64  \n 7   y                 int64  \n 8   session           object \n 9   user              object \n 10  Action            object \n 11  action_begin      float64\n 12  delta_action      float64\n 13  Action_border     object \ndtypes: float64(4), int64(4), object(6)\nmemory usage: 257.9+ MB\n"
     ]
    }
   ],
   "source": [
    "train_seg.info()\n"
   ]
  },
  {
   "cell_type": "code",
   "execution_count": 5,
   "metadata": {},
   "outputs": [
    {
     "output_type": "execute_result",
     "data": {
      "text/plain": [
       "Unnamed: 0                0\n",
       "Unnamed: 0.1              0\n",
       "record timestamp          0\n",
       "client timestamp          0\n",
       "button                    0\n",
       "state                     0\n",
       "x                         0\n",
       "y                         0\n",
       "session                   0\n",
       "user                      0\n",
       "Action                    0\n",
       "action_begin        2170967\n",
       "delta_action        2170967\n",
       "Action_border       2170967\n",
       "dtype: int64"
      ]
     },
     "metadata": {},
     "execution_count": 5
    }
   ],
   "source": [
    "train_seg.isna().sum()"
   ]
  },
  {
   "cell_type": "code",
   "execution_count": 6,
   "metadata": {},
   "outputs": [
    {
     "output_type": "error",
     "ename": "KeyError",
     "evalue": "\"Passing list-likes to .loc or [] with any missing labels is no longer supported. The following labels were missing: Float64Index([nan, nan, nan, nan, nan,\\n              ...\\n              nan, nan, nan, nan, nan],\\n             dtype='float64', length=17). See https://pandas.pydata.org/pandas-docs/stable/user_guide/indexing.html#deprecate-loc-reindex-listlike\"",
     "traceback": [
      "\u001b[1;31m---------------------------------------------------------------------------\u001b[0m",
      "\u001b[1;31mKeyError\u001b[0m                                  Traceback (most recent call last)",
      "\u001b[1;32m<ipython-input-6-7b382e67903a>\u001b[0m in \u001b[0;36m<module>\u001b[1;34m\u001b[0m\n\u001b[0;32m      1\u001b[0m \u001b[0mtrain_seg\u001b[0m\u001b[1;33m=\u001b[0m\u001b[0mtrain_save\u001b[0m\u001b[1;33m\u001b[0m\u001b[1;33m\u001b[0m\u001b[0m\n\u001b[1;32m----> 2\u001b[1;33m \u001b[0mdf_action\u001b[0m\u001b[1;33m,\u001b[0m\u001b[0mtrain_seg\u001b[0m\u001b[1;33m=\u001b[0m\u001b[0mfeat_eng\u001b[0m\u001b[1;33m(\u001b[0m\u001b[0mtrain_seg\u001b[0m\u001b[1;33m[\u001b[0m\u001b[0mtrain_seg\u001b[0m\u001b[1;33m.\u001b[0m\u001b[0msession\u001b[0m\u001b[1;33m==\u001b[0m\u001b[1;34m'session_5265929106'\u001b[0m\u001b[1;33m]\u001b[0m\u001b[1;33m)\u001b[0m\u001b[1;33m\u001b[0m\u001b[1;33m\u001b[0m\u001b[0m\n\u001b[0m",
      "\u001b[1;32mc:\\Users\\Andrius\\Data Analysis\\Feature_Engineer.py\u001b[0m in \u001b[0;36mfeat_eng\u001b[1;34m(train_seg)\u001b[0m\n\u001b[0;32m     78\u001b[0m     \u001b[1;31m#print(np.array(list(zip(train_seg.loc[train_seg.loc[:,'begin_act_idx'].values,'x'],train_seg.loc[train_seg.loc[:,'begin_act_idx'].values,'y']))))\u001b[0m\u001b[1;33m\u001b[0m\u001b[1;33m\u001b[0m\u001b[1;33m\u001b[0m\u001b[0m\n\u001b[0;32m     79\u001b[0m     train_seg['deviation']=lineseg_dists(p=np.array(train_seg[['x','y']]),\n\u001b[1;32m---> 80\u001b[1;33m                                          \u001b[0ma\u001b[0m\u001b[1;33m=\u001b[0m\u001b[0mnp\u001b[0m\u001b[1;33m.\u001b[0m\u001b[0marray\u001b[0m\u001b[1;33m(\u001b[0m\u001b[0mlist\u001b[0m\u001b[1;33m(\u001b[0m\u001b[0mzip\u001b[0m\u001b[1;33m(\u001b[0m\u001b[0mtrain_seg\u001b[0m\u001b[1;33m.\u001b[0m\u001b[0mloc\u001b[0m\u001b[1;33m[\u001b[0m\u001b[0mtrain_seg\u001b[0m\u001b[1;33m.\u001b[0m\u001b[0mloc\u001b[0m\u001b[1;33m[\u001b[0m\u001b[1;33m:\u001b[0m\u001b[1;33m,\u001b[0m\u001b[1;34m'begin_act_idx'\u001b[0m\u001b[1;33m]\u001b[0m\u001b[1;33m.\u001b[0m\u001b[0mvalues\u001b[0m\u001b[1;33m,\u001b[0m\u001b[1;34m'x'\u001b[0m\u001b[1;33m]\u001b[0m\u001b[1;33m,\u001b[0m\u001b[0mtrain_seg\u001b[0m\u001b[1;33m.\u001b[0m\u001b[0mloc\u001b[0m\u001b[1;33m[\u001b[0m\u001b[0mtrain_seg\u001b[0m\u001b[1;33m.\u001b[0m\u001b[0mloc\u001b[0m\u001b[1;33m[\u001b[0m\u001b[1;33m:\u001b[0m\u001b[1;33m,\u001b[0m\u001b[1;34m'begin_act_idx'\u001b[0m\u001b[1;33m]\u001b[0m\u001b[1;33m.\u001b[0m\u001b[0mvalues\u001b[0m\u001b[1;33m,\u001b[0m\u001b[1;34m'y'\u001b[0m\u001b[1;33m]\u001b[0m\u001b[1;33m)\u001b[0m\u001b[1;33m)\u001b[0m\u001b[1;33m)\u001b[0m\u001b[1;33m,\u001b[0m\u001b[1;33m\u001b[0m\u001b[1;33m\u001b[0m\u001b[0m\n\u001b[0m\u001b[0;32m     81\u001b[0m                                          b=np.array(list(zip(train_seg.loc[train_seg.loc[:,'end_act_idx'].values,'x'],train_seg.loc[train_seg.loc[:,'end_act_idx'].values,'y']))))  \n\u001b[0;32m     82\u001b[0m \u001b[1;33m\u001b[0m\u001b[0m\n",
      "\u001b[1;32m~\\anaconda\\envs\\data analysis\\lib\\site-packages\\pandas\\core\\indexing.py\u001b[0m in \u001b[0;36m__getitem__\u001b[1;34m(self, key)\u001b[0m\n\u001b[0;32m    887\u001b[0m                     \u001b[1;31m# AttributeError for IntervalTree get_value\u001b[0m\u001b[1;33m\u001b[0m\u001b[1;33m\u001b[0m\u001b[1;33m\u001b[0m\u001b[0m\n\u001b[0;32m    888\u001b[0m                     \u001b[1;32mreturn\u001b[0m \u001b[0mself\u001b[0m\u001b[1;33m.\u001b[0m\u001b[0mobj\u001b[0m\u001b[1;33m.\u001b[0m\u001b[0m_get_value\u001b[0m\u001b[1;33m(\u001b[0m\u001b[1;33m*\u001b[0m\u001b[0mkey\u001b[0m\u001b[1;33m,\u001b[0m \u001b[0mtakeable\u001b[0m\u001b[1;33m=\u001b[0m\u001b[0mself\u001b[0m\u001b[1;33m.\u001b[0m\u001b[0m_takeable\u001b[0m\u001b[1;33m)\u001b[0m\u001b[1;33m\u001b[0m\u001b[1;33m\u001b[0m\u001b[0m\n\u001b[1;32m--> 889\u001b[1;33m             \u001b[1;32mreturn\u001b[0m \u001b[0mself\u001b[0m\u001b[1;33m.\u001b[0m\u001b[0m_getitem_tuple\u001b[0m\u001b[1;33m(\u001b[0m\u001b[0mkey\u001b[0m\u001b[1;33m)\u001b[0m\u001b[1;33m\u001b[0m\u001b[1;33m\u001b[0m\u001b[0m\n\u001b[0m\u001b[0;32m    890\u001b[0m         \u001b[1;32melse\u001b[0m\u001b[1;33m:\u001b[0m\u001b[1;33m\u001b[0m\u001b[1;33m\u001b[0m\u001b[0m\n\u001b[0;32m    891\u001b[0m             \u001b[1;31m# we by definition only have the 0th axis\u001b[0m\u001b[1;33m\u001b[0m\u001b[1;33m\u001b[0m\u001b[1;33m\u001b[0m\u001b[0m\n",
      "\u001b[1;32m~\\anaconda\\envs\\data analysis\\lib\\site-packages\\pandas\\core\\indexing.py\u001b[0m in \u001b[0;36m_getitem_tuple\u001b[1;34m(self, tup)\u001b[0m\n\u001b[0;32m   1058\u001b[0m     \u001b[1;32mdef\u001b[0m \u001b[0m_getitem_tuple\u001b[0m\u001b[1;33m(\u001b[0m\u001b[0mself\u001b[0m\u001b[1;33m,\u001b[0m \u001b[0mtup\u001b[0m\u001b[1;33m:\u001b[0m \u001b[0mTuple\u001b[0m\u001b[1;33m)\u001b[0m\u001b[1;33m:\u001b[0m\u001b[1;33m\u001b[0m\u001b[1;33m\u001b[0m\u001b[0m\n\u001b[0;32m   1059\u001b[0m         \u001b[1;32mwith\u001b[0m \u001b[0msuppress\u001b[0m\u001b[1;33m(\u001b[0m\u001b[0mIndexingError\u001b[0m\u001b[1;33m)\u001b[0m\u001b[1;33m:\u001b[0m\u001b[1;33m\u001b[0m\u001b[1;33m\u001b[0m\u001b[0m\n\u001b[1;32m-> 1060\u001b[1;33m             \u001b[1;32mreturn\u001b[0m \u001b[0mself\u001b[0m\u001b[1;33m.\u001b[0m\u001b[0m_getitem_lowerdim\u001b[0m\u001b[1;33m(\u001b[0m\u001b[0mtup\u001b[0m\u001b[1;33m)\u001b[0m\u001b[1;33m\u001b[0m\u001b[1;33m\u001b[0m\u001b[0m\n\u001b[0m\u001b[0;32m   1061\u001b[0m \u001b[1;33m\u001b[0m\u001b[0m\n\u001b[0;32m   1062\u001b[0m         \u001b[1;31m# no multi-index, so validate all of the indexers\u001b[0m\u001b[1;33m\u001b[0m\u001b[1;33m\u001b[0m\u001b[1;33m\u001b[0m\u001b[0m\n",
      "\u001b[1;32m~\\anaconda\\envs\\data analysis\\lib\\site-packages\\pandas\\core\\indexing.py\u001b[0m in \u001b[0;36m_getitem_lowerdim\u001b[1;34m(self, tup)\u001b[0m\n\u001b[0;32m    829\u001b[0m                     \u001b[1;32mreturn\u001b[0m \u001b[0msection\u001b[0m\u001b[1;33m\u001b[0m\u001b[1;33m\u001b[0m\u001b[0m\n\u001b[0;32m    830\u001b[0m                 \u001b[1;31m# This is an elided recursive call to iloc/loc\u001b[0m\u001b[1;33m\u001b[0m\u001b[1;33m\u001b[0m\u001b[1;33m\u001b[0m\u001b[0m\n\u001b[1;32m--> 831\u001b[1;33m                 \u001b[1;32mreturn\u001b[0m \u001b[0mgetattr\u001b[0m\u001b[1;33m(\u001b[0m\u001b[0msection\u001b[0m\u001b[1;33m,\u001b[0m \u001b[0mself\u001b[0m\u001b[1;33m.\u001b[0m\u001b[0mname\u001b[0m\u001b[1;33m)\u001b[0m\u001b[1;33m[\u001b[0m\u001b[0mnew_key\u001b[0m\u001b[1;33m]\u001b[0m\u001b[1;33m\u001b[0m\u001b[1;33m\u001b[0m\u001b[0m\n\u001b[0m\u001b[0;32m    832\u001b[0m \u001b[1;33m\u001b[0m\u001b[0m\n\u001b[0;32m    833\u001b[0m         \u001b[1;32mraise\u001b[0m \u001b[0mIndexingError\u001b[0m\u001b[1;33m(\u001b[0m\u001b[1;34m\"not applicable\"\u001b[0m\u001b[1;33m)\u001b[0m\u001b[1;33m\u001b[0m\u001b[1;33m\u001b[0m\u001b[0m\n",
      "\u001b[1;32m~\\anaconda\\envs\\data analysis\\lib\\site-packages\\pandas\\core\\indexing.py\u001b[0m in \u001b[0;36m__getitem__\u001b[1;34m(self, key)\u001b[0m\n\u001b[0;32m    893\u001b[0m \u001b[1;33m\u001b[0m\u001b[0m\n\u001b[0;32m    894\u001b[0m             \u001b[0mmaybe_callable\u001b[0m \u001b[1;33m=\u001b[0m \u001b[0mcom\u001b[0m\u001b[1;33m.\u001b[0m\u001b[0mapply_if_callable\u001b[0m\u001b[1;33m(\u001b[0m\u001b[0mkey\u001b[0m\u001b[1;33m,\u001b[0m \u001b[0mself\u001b[0m\u001b[1;33m.\u001b[0m\u001b[0mobj\u001b[0m\u001b[1;33m)\u001b[0m\u001b[1;33m\u001b[0m\u001b[1;33m\u001b[0m\u001b[0m\n\u001b[1;32m--> 895\u001b[1;33m             \u001b[1;32mreturn\u001b[0m \u001b[0mself\u001b[0m\u001b[1;33m.\u001b[0m\u001b[0m_getitem_axis\u001b[0m\u001b[1;33m(\u001b[0m\u001b[0mmaybe_callable\u001b[0m\u001b[1;33m,\u001b[0m \u001b[0maxis\u001b[0m\u001b[1;33m=\u001b[0m\u001b[0maxis\u001b[0m\u001b[1;33m)\u001b[0m\u001b[1;33m\u001b[0m\u001b[1;33m\u001b[0m\u001b[0m\n\u001b[0m\u001b[0;32m    896\u001b[0m \u001b[1;33m\u001b[0m\u001b[0m\n\u001b[0;32m    897\u001b[0m     \u001b[1;32mdef\u001b[0m \u001b[0m_is_scalar_access\u001b[0m\u001b[1;33m(\u001b[0m\u001b[0mself\u001b[0m\u001b[1;33m,\u001b[0m \u001b[0mkey\u001b[0m\u001b[1;33m:\u001b[0m \u001b[0mTuple\u001b[0m\u001b[1;33m)\u001b[0m\u001b[1;33m:\u001b[0m\u001b[1;33m\u001b[0m\u001b[1;33m\u001b[0m\u001b[0m\n",
      "\u001b[1;32m~\\anaconda\\envs\\data analysis\\lib\\site-packages\\pandas\\core\\indexing.py\u001b[0m in \u001b[0;36m_getitem_axis\u001b[1;34m(self, key, axis)\u001b[0m\n\u001b[0;32m   1111\u001b[0m                     \u001b[1;32mraise\u001b[0m \u001b[0mValueError\u001b[0m\u001b[1;33m(\u001b[0m\u001b[1;34m\"Cannot index with multidimensional key\"\u001b[0m\u001b[1;33m)\u001b[0m\u001b[1;33m\u001b[0m\u001b[1;33m\u001b[0m\u001b[0m\n\u001b[0;32m   1112\u001b[0m \u001b[1;33m\u001b[0m\u001b[0m\n\u001b[1;32m-> 1113\u001b[1;33m                 \u001b[1;32mreturn\u001b[0m \u001b[0mself\u001b[0m\u001b[1;33m.\u001b[0m\u001b[0m_getitem_iterable\u001b[0m\u001b[1;33m(\u001b[0m\u001b[0mkey\u001b[0m\u001b[1;33m,\u001b[0m \u001b[0maxis\u001b[0m\u001b[1;33m=\u001b[0m\u001b[0maxis\u001b[0m\u001b[1;33m)\u001b[0m\u001b[1;33m\u001b[0m\u001b[1;33m\u001b[0m\u001b[0m\n\u001b[0m\u001b[0;32m   1114\u001b[0m \u001b[1;33m\u001b[0m\u001b[0m\n\u001b[0;32m   1115\u001b[0m             \u001b[1;31m# nested tuple slicing\u001b[0m\u001b[1;33m\u001b[0m\u001b[1;33m\u001b[0m\u001b[1;33m\u001b[0m\u001b[0m\n",
      "\u001b[1;32m~\\anaconda\\envs\\data analysis\\lib\\site-packages\\pandas\\core\\indexing.py\u001b[0m in \u001b[0;36m_getitem_iterable\u001b[1;34m(self, key, axis)\u001b[0m\n\u001b[0;32m   1051\u001b[0m \u001b[1;33m\u001b[0m\u001b[0m\n\u001b[0;32m   1052\u001b[0m         \u001b[1;31m# A collection of keys\u001b[0m\u001b[1;33m\u001b[0m\u001b[1;33m\u001b[0m\u001b[1;33m\u001b[0m\u001b[0m\n\u001b[1;32m-> 1053\u001b[1;33m         \u001b[0mkeyarr\u001b[0m\u001b[1;33m,\u001b[0m \u001b[0mindexer\u001b[0m \u001b[1;33m=\u001b[0m \u001b[0mself\u001b[0m\u001b[1;33m.\u001b[0m\u001b[0m_get_listlike_indexer\u001b[0m\u001b[1;33m(\u001b[0m\u001b[0mkey\u001b[0m\u001b[1;33m,\u001b[0m \u001b[0maxis\u001b[0m\u001b[1;33m,\u001b[0m \u001b[0mraise_missing\u001b[0m\u001b[1;33m=\u001b[0m\u001b[1;32mFalse\u001b[0m\u001b[1;33m)\u001b[0m\u001b[1;33m\u001b[0m\u001b[1;33m\u001b[0m\u001b[0m\n\u001b[0m\u001b[0;32m   1054\u001b[0m         return self.obj._reindex_with_indexers(\n\u001b[0;32m   1055\u001b[0m             \u001b[1;33m{\u001b[0m\u001b[0maxis\u001b[0m\u001b[1;33m:\u001b[0m \u001b[1;33m[\u001b[0m\u001b[0mkeyarr\u001b[0m\u001b[1;33m,\u001b[0m \u001b[0mindexer\u001b[0m\u001b[1;33m]\u001b[0m\u001b[1;33m}\u001b[0m\u001b[1;33m,\u001b[0m \u001b[0mcopy\u001b[0m\u001b[1;33m=\u001b[0m\u001b[1;32mTrue\u001b[0m\u001b[1;33m,\u001b[0m \u001b[0mallow_dups\u001b[0m\u001b[1;33m=\u001b[0m\u001b[1;32mTrue\u001b[0m\u001b[1;33m\u001b[0m\u001b[1;33m\u001b[0m\u001b[0m\n",
      "\u001b[1;32m~\\anaconda\\envs\\data analysis\\lib\\site-packages\\pandas\\core\\indexing.py\u001b[0m in \u001b[0;36m_get_listlike_indexer\u001b[1;34m(self, key, axis, raise_missing)\u001b[0m\n\u001b[0;32m   1264\u001b[0m             \u001b[0mkeyarr\u001b[0m\u001b[1;33m,\u001b[0m \u001b[0mindexer\u001b[0m\u001b[1;33m,\u001b[0m \u001b[0mnew_indexer\u001b[0m \u001b[1;33m=\u001b[0m \u001b[0max\u001b[0m\u001b[1;33m.\u001b[0m\u001b[0m_reindex_non_unique\u001b[0m\u001b[1;33m(\u001b[0m\u001b[0mkeyarr\u001b[0m\u001b[1;33m)\u001b[0m\u001b[1;33m\u001b[0m\u001b[1;33m\u001b[0m\u001b[0m\n\u001b[0;32m   1265\u001b[0m \u001b[1;33m\u001b[0m\u001b[0m\n\u001b[1;32m-> 1266\u001b[1;33m         \u001b[0mself\u001b[0m\u001b[1;33m.\u001b[0m\u001b[0m_validate_read_indexer\u001b[0m\u001b[1;33m(\u001b[0m\u001b[0mkeyarr\u001b[0m\u001b[1;33m,\u001b[0m \u001b[0mindexer\u001b[0m\u001b[1;33m,\u001b[0m \u001b[0maxis\u001b[0m\u001b[1;33m,\u001b[0m \u001b[0mraise_missing\u001b[0m\u001b[1;33m=\u001b[0m\u001b[0mraise_missing\u001b[0m\u001b[1;33m)\u001b[0m\u001b[1;33m\u001b[0m\u001b[1;33m\u001b[0m\u001b[0m\n\u001b[0m\u001b[0;32m   1267\u001b[0m         \u001b[1;32mreturn\u001b[0m \u001b[0mkeyarr\u001b[0m\u001b[1;33m,\u001b[0m \u001b[0mindexer\u001b[0m\u001b[1;33m\u001b[0m\u001b[1;33m\u001b[0m\u001b[0m\n\u001b[0;32m   1268\u001b[0m \u001b[1;33m\u001b[0m\u001b[0m\n",
      "\u001b[1;32m~\\anaconda\\envs\\data analysis\\lib\\site-packages\\pandas\\core\\indexing.py\u001b[0m in \u001b[0;36m_validate_read_indexer\u001b[1;34m(self, key, indexer, axis, raise_missing)\u001b[0m\n\u001b[0;32m   1319\u001b[0m \u001b[1;33m\u001b[0m\u001b[0m\n\u001b[0;32m   1320\u001b[0m             \u001b[1;32mwith\u001b[0m \u001b[0moption_context\u001b[0m\u001b[1;33m(\u001b[0m\u001b[1;34m\"display.max_seq_items\"\u001b[0m\u001b[1;33m,\u001b[0m \u001b[1;36m10\u001b[0m\u001b[1;33m,\u001b[0m \u001b[1;34m\"display.width\"\u001b[0m\u001b[1;33m,\u001b[0m \u001b[1;36m80\u001b[0m\u001b[1;33m)\u001b[0m\u001b[1;33m:\u001b[0m\u001b[1;33m\u001b[0m\u001b[1;33m\u001b[0m\u001b[0m\n\u001b[1;32m-> 1321\u001b[1;33m                 raise KeyError(\n\u001b[0m\u001b[0;32m   1322\u001b[0m                     \u001b[1;34m\"Passing list-likes to .loc or [] with any missing labels \"\u001b[0m\u001b[1;33m\u001b[0m\u001b[1;33m\u001b[0m\u001b[0m\n\u001b[0;32m   1323\u001b[0m                     \u001b[1;34m\"is no longer supported. \"\u001b[0m\u001b[1;33m\u001b[0m\u001b[1;33m\u001b[0m\u001b[0m\n",
      "\u001b[1;31mKeyError\u001b[0m: \"Passing list-likes to .loc or [] with any missing labels is no longer supported. The following labels were missing: Float64Index([nan, nan, nan, nan, nan,\\n              ...\\n              nan, nan, nan, nan, nan],\\n             dtype='float64', length=17). See https://pandas.pydata.org/pandas-docs/stable/user_guide/indexing.html#deprecate-loc-reindex-listlike\""
     ]
    }
   ],
   "source": [
    "train_seg=train_save\n",
    "df_action,train_seg=feat_eng(train_seg[train_seg.session=='session_5265929106'])"
   ]
  },
  {
   "cell_type": "code",
   "execution_count": 19,
   "metadata": {},
   "outputs": [
    {
     "output_type": "execute_result",
     "data": {
      "text/plain": [
       "Unnamed: 0              0\n",
       "Unnamed: 0.1            0\n",
       "record timestamp        0\n",
       "client timestamp        0\n",
       "button                  0\n",
       "state                   0\n",
       "x                       0\n",
       "y                       0\n",
       "session                 0\n",
       "user                    0\n",
       "Action                  0\n",
       "action_begin            0\n",
       "delta_action            0\n",
       "Action_border           0\n",
       "action_count            0\n",
       "index                   0\n",
       "begin_act_idx           0\n",
       "v_x_mean                0\n",
       "v_x_std                11\n",
       "v_x_max                 0\n",
       "v_x_min                 0\n",
       "v_y_mean                0\n",
       "v_y_std                11\n",
       "v_y_max                 0\n",
       "v_y_min                 0\n",
       "v_t_mean                0\n",
       "v_t_std                11\n",
       "v_t_max                 0\n",
       "v_t_min                 0\n",
       "acc_mean                0\n",
       "acc_std                11\n",
       "acc_max                 0\n",
       "acc_min                 0\n",
       "jerk_mean               0\n",
       "jerk_std               11\n",
       "jerk_max                0\n",
       "jerk_min                0\n",
       "w_mean                  0\n",
       "w_std                  11\n",
       "w_max                   0\n",
       "w_min                   0\n",
       "curv_mean               0\n",
       "curv_std               11\n",
       "curv_max                0\n",
       "curv_min                0\n",
       "action_type             0\n",
       "elapsed_time            0\n",
       "s_action                0\n",
       "dist_end_end            0\n",
       "direction            1493\n",
       "straightness            0\n",
       "num_points              1\n",
       "sum_angle               0\n",
       "largest_deviation       0\n",
       "sharp angles            0\n",
       "dtype: int64"
      ]
     },
     "metadata": {},
     "execution_count": 19
    }
   ],
   "source": [
    "df_action.isna().sum()"
   ]
  },
  {
   "cell_type": "code",
   "execution_count": 21,
   "metadata": {},
   "outputs": [
    {
     "output_type": "execute_result",
     "data": {
      "text/plain": [
       "30292       75.179625\n",
       "30297       20.067277\n",
       "30299        0.000000\n",
       "30323    60069.964056\n",
       "30333      430.977031\n",
       "             ...     \n",
       "62558     1782.245509\n",
       "62559             NaN\n",
       "62570     1174.743779\n",
       "62585      423.577096\n",
       "62602      453.646468\n",
       "Name: v_x_std, Length: 1493, dtype: float64"
      ]
     },
     "metadata": {},
     "execution_count": 21
    }
   ],
   "source": [
    "df_action['v_x_std']"
   ]
  },
  {
   "cell_type": "code",
   "execution_count": 25,
   "metadata": {},
   "outputs": [
    {
     "output_type": "execute_result",
     "data": {
      "text/plain": [
       "       v_x_std  action_count\n",
       "31933      NaN          74.0\n",
       "33077      NaN         137.0\n",
       "35154      NaN         221.0\n",
       "41064      NaN         477.0\n",
       "41079      NaN         479.0\n",
       "42481      NaN         572.0\n",
       "54273      NaN        1155.0\n",
       "55657      NaN        1211.0\n",
       "57752      NaN        1318.0\n",
       "60526      NaN        1431.0\n",
       "62559      NaN        1489.0"
      ],
      "text/html": "<div>\n<style scoped>\n    .dataframe tbody tr th:only-of-type {\n        vertical-align: middle;\n    }\n\n    .dataframe tbody tr th {\n        vertical-align: top;\n    }\n\n    .dataframe thead th {\n        text-align: right;\n    }\n</style>\n<table border=\"1\" class=\"dataframe\">\n  <thead>\n    <tr style=\"text-align: right;\">\n      <th></th>\n      <th>v_x_std</th>\n      <th>action_count</th>\n    </tr>\n  </thead>\n  <tbody>\n    <tr>\n      <th>31933</th>\n      <td>NaN</td>\n      <td>74.0</td>\n    </tr>\n    <tr>\n      <th>33077</th>\n      <td>NaN</td>\n      <td>137.0</td>\n    </tr>\n    <tr>\n      <th>35154</th>\n      <td>NaN</td>\n      <td>221.0</td>\n    </tr>\n    <tr>\n      <th>41064</th>\n      <td>NaN</td>\n      <td>477.0</td>\n    </tr>\n    <tr>\n      <th>41079</th>\n      <td>NaN</td>\n      <td>479.0</td>\n    </tr>\n    <tr>\n      <th>42481</th>\n      <td>NaN</td>\n      <td>572.0</td>\n    </tr>\n    <tr>\n      <th>54273</th>\n      <td>NaN</td>\n      <td>1155.0</td>\n    </tr>\n    <tr>\n      <th>55657</th>\n      <td>NaN</td>\n      <td>1211.0</td>\n    </tr>\n    <tr>\n      <th>57752</th>\n      <td>NaN</td>\n      <td>1318.0</td>\n    </tr>\n    <tr>\n      <th>60526</th>\n      <td>NaN</td>\n      <td>1431.0</td>\n    </tr>\n    <tr>\n      <th>62559</th>\n      <td>NaN</td>\n      <td>1489.0</td>\n    </tr>\n  </tbody>\n</table>\n</div>"
     },
     "metadata": {},
     "execution_count": 25
    }
   ],
   "source": [
    "df_action[df_action.v_x_std.isna()][['v_x_std','action_count']]"
   ]
  },
  {
   "cell_type": "code",
   "execution_count": 31,
   "metadata": {},
   "outputs": [
    {
     "output_type": "execute_result",
     "data": {
      "text/plain": [
       "       action_count  client timestamp\n",
       "31930          73.0           996.831\n",
       "31931          73.0           997.299\n",
       "31932          73.0           997.470\n",
       "31933          74.0          1069.777\n",
       "31934          75.0          1069.886\n",
       "31935          75.0          1069.995\n",
       "31936          75.0          1070.104\n",
       "31937          75.0          1070.213\n",
       "31938          75.0          1070.323\n",
       "31939          75.0          1070.432\n",
       "31940          75.0          1070.541\n",
       "31941          75.0          1070.837\n",
       "31942          75.0          1071.009\n",
       "31943          75.0          1071.118\n",
       "31944          75.0          1071.243\n",
       "31945          75.0          1071.352\n",
       "31946          75.0          1071.649\n",
       "31947          75.0          1072.023\n",
       "31948          75.0          1072.241\n",
       "31949          75.0          1073.037\n",
       "31950          75.0          1073.552\n",
       "31951          75.0          1073.645\n",
       "31952          76.0          1073.770\n",
       "31953          76.0          1073.879\n",
       "31954          76.0          1073.989\n",
       "31955          76.0          1074.737\n",
       "31956          76.0          1074.909\n",
       "31957          76.0          1075.018\n",
       "31958          76.0          1075.127\n",
       "31959          76.0          1075.237\n",
       "31960          76.0          1075.439"
      ],
      "text/html": "<div>\n<style scoped>\n    .dataframe tbody tr th:only-of-type {\n        vertical-align: middle;\n    }\n\n    .dataframe tbody tr th {\n        vertical-align: top;\n    }\n\n    .dataframe thead th {\n        text-align: right;\n    }\n</style>\n<table border=\"1\" class=\"dataframe\">\n  <thead>\n    <tr style=\"text-align: right;\">\n      <th></th>\n      <th>action_count</th>\n      <th>client timestamp</th>\n    </tr>\n  </thead>\n  <tbody>\n    <tr>\n      <th>31930</th>\n      <td>73.0</td>\n      <td>996.831</td>\n    </tr>\n    <tr>\n      <th>31931</th>\n      <td>73.0</td>\n      <td>997.299</td>\n    </tr>\n    <tr>\n      <th>31932</th>\n      <td>73.0</td>\n      <td>997.470</td>\n    </tr>\n    <tr>\n      <th>31933</th>\n      <td>74.0</td>\n      <td>1069.777</td>\n    </tr>\n    <tr>\n      <th>31934</th>\n      <td>75.0</td>\n      <td>1069.886</td>\n    </tr>\n    <tr>\n      <th>31935</th>\n      <td>75.0</td>\n      <td>1069.995</td>\n    </tr>\n    <tr>\n      <th>31936</th>\n      <td>75.0</td>\n      <td>1070.104</td>\n    </tr>\n    <tr>\n      <th>31937</th>\n      <td>75.0</td>\n      <td>1070.213</td>\n    </tr>\n    <tr>\n      <th>31938</th>\n      <td>75.0</td>\n      <td>1070.323</td>\n    </tr>\n    <tr>\n      <th>31939</th>\n      <td>75.0</td>\n      <td>1070.432</td>\n    </tr>\n    <tr>\n      <th>31940</th>\n      <td>75.0</td>\n      <td>1070.541</td>\n    </tr>\n    <tr>\n      <th>31941</th>\n      <td>75.0</td>\n      <td>1070.837</td>\n    </tr>\n    <tr>\n      <th>31942</th>\n      <td>75.0</td>\n      <td>1071.009</td>\n    </tr>\n    <tr>\n      <th>31943</th>\n      <td>75.0</td>\n      <td>1071.118</td>\n    </tr>\n    <tr>\n      <th>31944</th>\n      <td>75.0</td>\n      <td>1071.243</td>\n    </tr>\n    <tr>\n      <th>31945</th>\n      <td>75.0</td>\n      <td>1071.352</td>\n    </tr>\n    <tr>\n      <th>31946</th>\n      <td>75.0</td>\n      <td>1071.649</td>\n    </tr>\n    <tr>\n      <th>31947</th>\n      <td>75.0</td>\n      <td>1072.023</td>\n    </tr>\n    <tr>\n      <th>31948</th>\n      <td>75.0</td>\n      <td>1072.241</td>\n    </tr>\n    <tr>\n      <th>31949</th>\n      <td>75.0</td>\n      <td>1073.037</td>\n    </tr>\n    <tr>\n      <th>31950</th>\n      <td>75.0</td>\n      <td>1073.552</td>\n    </tr>\n    <tr>\n      <th>31951</th>\n      <td>75.0</td>\n      <td>1073.645</td>\n    </tr>\n    <tr>\n      <th>31952</th>\n      <td>76.0</td>\n      <td>1073.770</td>\n    </tr>\n    <tr>\n      <th>31953</th>\n      <td>76.0</td>\n      <td>1073.879</td>\n    </tr>\n    <tr>\n      <th>31954</th>\n      <td>76.0</td>\n      <td>1073.989</td>\n    </tr>\n    <tr>\n      <th>31955</th>\n      <td>76.0</td>\n      <td>1074.737</td>\n    </tr>\n    <tr>\n      <th>31956</th>\n      <td>76.0</td>\n      <td>1074.909</td>\n    </tr>\n    <tr>\n      <th>31957</th>\n      <td>76.0</td>\n      <td>1075.018</td>\n    </tr>\n    <tr>\n      <th>31958</th>\n      <td>76.0</td>\n      <td>1075.127</td>\n    </tr>\n    <tr>\n      <th>31959</th>\n      <td>76.0</td>\n      <td>1075.237</td>\n    </tr>\n    <tr>\n      <th>31960</th>\n      <td>76.0</td>\n      <td>1075.439</td>\n    </tr>\n  </tbody>\n</table>\n</div>"
     },
     "metadata": {},
     "execution_count": 31
    }
   ],
   "source": [
    "train_seg.loc[31930:31960,:][['action_count','client timestamp']]"
   ]
  },
  {
   "cell_type": "code",
   "execution_count": null,
   "metadata": {},
   "outputs": [],
   "source": []
  }
 ]
}